{
 "cells": [
  {
   "cell_type": "code",
   "execution_count": 906,
   "metadata": {},
   "outputs": [
    {
     "data": {
      "text/plain": [
       "{'name': 'EMILY', '國文': 78, '英文': 92, '數學': 91}"
      ]
     },
     "execution_count": 906,
     "metadata": {},
     "output_type": "execute_result"
    }
   ],
   "source": [
    "#使用dictionary建立一筆資料,dictionary含有key 和 value;範例中name, 國文,英文和數學就是key, 'EMILY,78,92,91就是value\n",
    "#雙引號\"\"或單引號''代表字串\n",
    "\n",
    "{'name':'EMILY',           #敘述前面要對齊,這邊只有一行敘述,現換行只是可讀性高\n",
    " '國文':78,\n",
    " '英文':92,\n",
    " '數學':91\n",
    "}"
   ]
  },
  {
   "cell_type": "code",
   "execution_count": 907,
   "metadata": {},
   "outputs": [
    {
     "name": "stdout",
     "output_type": "stream",
     "text": [
      "10\n",
      "20\n",
      "30\n"
     ]
    }
   ],
   "source": [
    "# \"[index]\"叫subscript\n",
    "#建立list的實體\n",
    "#print(value[index])表示\n",
    "#範例中list[int]代表提示hint\n",
    "\n",
    "values:list[int] = [10,20,30]\n",
    "print(values[0])   #print是內建的function\n",
    "print(values[1])\n",
    "print(values[2])"
   ]
  },
  {
   "cell_type": "code",
   "execution_count": 908,
   "metadata": {},
   "outputs": [
    {
     "name": "stdout",
     "output_type": "stream",
     "text": [
      "EMILY\n",
      "78\n",
      "92\n",
      "91\n"
     ]
    }
   ],
   "source": [
    "#使用dictionary建立一筆資料\n",
    "#建立dict的實體\n",
    "# print(students[key])表示\n",
    "# 範例中dict[str:any]代表提示hint\n",
    "\n",
    "student:dict[str:any] = {\n",
    "    'name':'EMILY',          \n",
    "    '國文':78,\n",
    "    '英文':92,\n",
    "    '數學':91\n",
    "}\n",
    "\n",
    "print(student['name'])\n",
    "print(student['國文'])\n",
    "print(student['英文'])\n",
    "print(student['數學'])"
   ]
  },
  {
   "cell_type": "code",
   "execution_count": 909,
   "metadata": {},
   "outputs": [
    {
     "name": "stdout",
     "output_type": "stream",
     "text": [
      "10\n",
      "20\n",
      "30\n"
     ]
    }
   ],
   "source": [
    "#【list】for 變數 in iterable 迴圈\n",
    "# list是sequence, sequence取出來的是value值\n",
    "\n",
    "values:list[int] = [10,20,30]\n",
    "for value in values:\n",
    "    print(value)"
   ]
  },
  {
   "cell_type": "code",
   "execution_count": 910,
   "metadata": {},
   "outputs": [
    {
     "data": {
      "text/plain": [
       "'name'"
      ]
     },
     "metadata": {},
     "output_type": "display_data"
    },
    {
     "name": "stdout",
     "output_type": "stream",
     "text": [
      "<class 'str'>\n",
      "key=name\n",
      "value=EMILY\n",
      "========================\n"
     ]
    },
    {
     "data": {
      "text/plain": [
       "'國文'"
      ]
     },
     "metadata": {},
     "output_type": "display_data"
    },
    {
     "name": "stdout",
     "output_type": "stream",
     "text": [
      "<class 'str'>\n",
      "key=國文\n",
      "value=78\n",
      "========================\n"
     ]
    },
    {
     "data": {
      "text/plain": [
       "'英文'"
      ]
     },
     "metadata": {},
     "output_type": "display_data"
    },
    {
     "name": "stdout",
     "output_type": "stream",
     "text": [
      "<class 'str'>\n",
      "key=英文\n",
      "value=92\n",
      "========================\n"
     ]
    },
    {
     "data": {
      "text/plain": [
       "'數學'"
      ]
     },
     "metadata": {},
     "output_type": "display_data"
    },
    {
     "name": "stdout",
     "output_type": "stream",
     "text": [
      "<class 'str'>\n",
      "key=數學\n",
      "value=91\n",
      "========================\n"
     ]
    }
   ],
   "source": [
    "# 【dictionary】\"for 變數 in iterable :\" 迴圈\n",
    "# dict是屬於Maping, Maping取出來的是key\n",
    "student:dict[str:any] = {\n",
    "    'name':'EMILY',          \n",
    "    '國文':78,\n",
    "    '英文':92,\n",
    "    '數學':91\n",
    "}\n",
    "\n",
    "for key in student:\n",
    "    display(key)\n",
    "    print(type(key))\n",
    "    print(f'key={key}')\n",
    "    print(f'value={student[key]}')\n",
    "    print('========================')"
   ]
  },
  {
   "cell_type": "code",
   "execution_count": 911,
   "metadata": {},
   "outputs": [
    {
     "name": "stdout",
     "output_type": "stream",
     "text": [
      "404\n",
      "沒有網頁發現\n"
     ]
    }
   ],
   "source": [
    "#tuple拆解法\n",
    "code, error = (404, '沒有網頁發現')\n",
    "print(code)\n",
    "print(error)"
   ]
  },
  {
   "cell_type": "code",
   "execution_count": 912,
   "metadata": {},
   "outputs": [
    {
     "name": "stdout",
     "output_type": "stream",
     "text": [
      "索引編號:0\n",
      "值是:10\n",
      "=====================\n",
      "索引編號:1\n",
      "值是:20\n",
      "=====================\n",
      "索引編號:2\n",
      "值是:30\n",
      "=====================\n"
     ]
    }
   ],
   "source": [
    "#enumerate可重複讀取\n",
    "#enumerate指令傳出索引和值\n",
    "\n",
    "values:list[int] = [10,20,30]\n",
    "for idx,value in enumerate(values):\n",
    "    print(f'索引編號:{idx}')\n",
    "    print(f'值是:{value}')\n",
    "    print(\"=====================\")"
   ]
  },
  {
   "cell_type": "code",
   "execution_count": 913,
   "metadata": {},
   "outputs": [
    {
     "data": {
      "text/plain": [
       "{'name': 'EMILY', '國文': 78, '英文': 92, '數學': 91}"
      ]
     },
     "execution_count": 913,
     "metadata": {},
     "output_type": "execute_result"
    }
   ],
   "source": [
    "#dict實體\n",
    "student:dict[str:any] = {\n",
    "    'name':'EMILY',          \n",
    "    '國文':78,\n",
    "    '英文':92,\n",
    "    '數學':91\n",
    "}\n",
    "\n",
    "student"
   ]
  },
  {
   "cell_type": "code",
   "execution_count": 914,
   "metadata": {},
   "outputs": [
    {
     "name": "stdout",
     "output_type": "stream",
     "text": [
      "name\n",
      "國文\n",
      "英文\n",
      "數學\n"
     ]
    }
   ],
   "source": [
    "#dict實體, \n",
    "# 實體方法: 實體變數.keys()\n",
    "\n",
    "for key in student.keys():\n",
    "    print(key)\n"
   ]
  },
  {
   "cell_type": "code",
   "execution_count": 915,
   "metadata": {},
   "outputs": [
    {
     "name": "stdout",
     "output_type": "stream",
     "text": [
      "EMILY\n",
      "78\n",
      "92\n",
      "91\n"
     ]
    }
   ],
   "source": [
    "#dict實體,\n",
    "# 實體方法: 實體變數.values()\n",
    "\n",
    "for value in student.values():\n",
    "    print(value)"
   ]
  },
  {
   "cell_type": "code",
   "execution_count": 916,
   "metadata": {},
   "outputs": [
    {
     "name": "stdout",
     "output_type": "stream",
     "text": [
      "name\n",
      "EMILY\n",
      "===================\n",
      "國文\n",
      "78\n",
      "===================\n",
      "英文\n",
      "92\n",
      "===================\n",
      "數學\n",
      "91\n",
      "===================\n"
     ]
    }
   ],
   "source": [
    "#dict實體,\n",
    "#實體方法: 實體變數.items()\n",
    "#取出實體的變數與值\n",
    "\n",
    "for key,value in student.items():\n",
    "    print(key)\n",
    "    print(value)\n",
    "    print(\"===================\")\n"
   ]
  },
  {
   "cell_type": "code",
   "execution_count": 917,
   "metadata": {},
   "outputs": [
    {
     "name": "stdout",
     "output_type": "stream",
     "text": [
      "[{'name': 'EMILY', '國文': 78, '英文': 92, '數學': 91}, {'name': 'jerry', '國文': 78, '英文': 92, '數學': 91}, {'name': 'peggy', '國文': 78, '英文': 92, '數學': 91}]\n"
     ]
    }
   ],
   "source": [
    "#list可包裝一筆一筆資料,可包裝dict,範例如下\n",
    "\n",
    "students:list[dict] = [\n",
    "{'name':'EMILY','國文':78,'英文':92,'數學':91},\n",
    "{'name':'jerry','國文':78,'英文':92,'數學':91},\n",
    "{'name':'peggy','國文':78,'英文':92,'數學':91},\n",
    "]\n",
    "\n",
    "print(students)\n"
   ]
  },
  {
   "cell_type": "code",
   "execution_count": 918,
   "metadata": {},
   "outputs": [
    {
     "name": "stdout",
     "output_type": "stream",
     "text": [
      "key=name,value=EMILY\n",
      "key=國文,value=78\n",
      "key=英文,value=92\n",
      "key=數學,value=91\n",
      "==================================\n",
      "key=name,value=jerry\n",
      "key=國文,value=78\n",
      "key=英文,value=92\n",
      "key=數學,value=91\n",
      "==================================\n",
      "key=name,value=peggy\n",
      "key=國文,value=78\n",
      "key=英文,value=92\n",
      "key=數學,value=91\n",
      "==================================\n"
     ]
    }
   ],
   "source": [
    "#多個學生資料,取出每個學生的資料,範例如下\n",
    "\n",
    "for student in students:\n",
    "    for key,value in student.items():\n",
    "        print(f'key={key},value={value}')\n",
    "\n",
    "    print(\"==================================\")\n"
   ]
  },
  {
   "cell_type": "code",
   "execution_count": 919,
   "metadata": {},
   "outputs": [],
   "source": [
    "#自訂function, 代碼:def, 定義的是參數\n",
    "#定義function裡面一定要有程式區塊\n",
    "\n",
    "def say_hello():\n",
    "    print(\"Hello\")"
   ]
  },
  {
   "cell_type": "code",
   "execution_count": 920,
   "metadata": {},
   "outputs": [
    {
     "name": "stdout",
     "output_type": "stream",
     "text": [
      "Hello\n"
     ]
    }
   ],
   "source": [
    "#呼叫function,呼叫使用引數值\n",
    "say_hello()"
   ]
  },
  {
   "cell_type": "code",
   "execution_count": 921,
   "metadata": {},
   "outputs": [],
   "source": [
    "def say_hello(name):    #name 是參數\n",
    "    print(f'Hello!{name}')\n"
   ]
  },
  {
   "cell_type": "code",
   "execution_count": 922,
   "metadata": {},
   "outputs": [
    {
     "name": "stdout",
     "output_type": "stream",
     "text": [
      "Hello!Emily\n"
     ]
    }
   ],
   "source": [
    "#呼叫的方式1: \"引數值\"的呼叫, 把EMmily放置定義def中name 內。\n",
    "\n",
    "say_hello('Emily')   # 'Emily'是引數值"
   ]
  },
  {
   "cell_type": "code",
   "execution_count": 923,
   "metadata": {},
   "outputs": [
    {
     "name": "stdout",
     "output_type": "stream",
     "text": [
      "Hello!Emily\n"
     ]
    }
   ],
   "source": [
    "#呼叫的方式2: \"引數名稱\"的呼叫 \n",
    "\n",
    "say_hello(name='Emily') "
   ]
  },
  {
   "cell_type": "code",
   "execution_count": 924,
   "metadata": {},
   "outputs": [],
   "source": [
    "def menu(wine, entree, dessert):\n",
    "    print(f'前酒:{wine}')\n",
    "    print(f'主餐:{entree}')\n",
    "    print(f'甜點:{dessert}')\n",
    "    "
   ]
  },
  {
   "cell_type": "code",
   "execution_count": 925,
   "metadata": {},
   "outputs": [
    {
     "name": "stdout",
     "output_type": "stream",
     "text": [
      "前酒:白酒\n",
      "主餐:牛排\n",
      "甜點:蛋糕\n"
     ]
    }
   ],
   "source": [
    "#引數值的呼叫,必須依照參數的順序\n",
    "\n",
    "menu('白酒','牛排','蛋糕')"
   ]
  },
  {
   "cell_type": "code",
   "execution_count": 926,
   "metadata": {},
   "outputs": [
    {
     "name": "stdout",
     "output_type": "stream",
     "text": [
      "前酒:白酒\n",
      "主餐:牛排\n",
      "甜點:蛋糕\n"
     ]
    }
   ],
   "source": [
    "#引數名稱的呼叫,不需要依照參數的順序\n",
    "\n",
    "menu(entree='牛排', dessert='蛋糕', wine='白酒')"
   ]
  },
  {
   "cell_type": "code",
   "execution_count": 927,
   "metadata": {},
   "outputs": [
    {
     "name": "stdout",
     "output_type": "stream",
     "text": [
      "前酒:白酒\n",
      "主餐:牛排\n",
      "甜點:蛋糕\n"
     ]
    }
   ],
   "source": [
    "#呼叫的方式3: \"混合\"的呼叫 \n",
    "#前面使用\"引數值\"呼叫,要依照參數順序\n",
    "#後面使用\"引數名稱:呼叫,可不依照參數順序\n",
    "#使用\"引數名稱\"呼叫,後面均需要使用\"引數名稱\"呼叫\n",
    "#範例如下:\n",
    "\n",
    "menu('白酒',dessert='蛋糕', entree='牛排')"
   ]
  },
  {
   "cell_type": "code",
   "execution_count": 928,
   "metadata": {},
   "outputs": [],
   "source": [
    "#參數類似變數\n",
    "#參數可以有type hint,引數值必須為字串\n",
    "\n",
    "def menu(wine:str, entree:str, dessert:str):  #str指字串\n",
    "    print(f'前酒:{wine}')\n",
    "    print(f'主餐:{entree}')\n",
    "    print(f'甜點:{dessert}')"
   ]
  },
  {
   "cell_type": "code",
   "execution_count": 929,
   "metadata": {},
   "outputs": [
    {
     "name": "stdout",
     "output_type": "stream",
     "text": [
      "前酒:白酒\n",
      "主餐:牛排\n",
      "甜點:蛋糕\n"
     ]
    }
   ],
   "source": [
    "menu('白酒',dessert='蛋糕', entree='牛排')"
   ]
  },
  {
   "cell_type": "code",
   "execution_count": 930,
   "metadata": {},
   "outputs": [],
   "source": [
    "#function傳出的值\n",
    "def menu(wine:str, entree:str, dessert:str)->dict[str,str]: \n",
    "    return{'前酒':wine, '主餐':entree,'甜點':dessert}"
   ]
  },
  {
   "cell_type": "code",
   "execution_count": 931,
   "metadata": {},
   "outputs": [
    {
     "name": "stdout",
     "output_type": "stream",
     "text": [
      "{'前酒': '白酒', '主餐': '牛排', '甜點': '蛋糕'}\n"
     ]
    }
   ],
   "source": [
    "#接收值\n",
    "my_menu = menu('白酒',dessert='蛋糕', entree='牛排')\n",
    "print(my_menu)"
   ]
  },
  {
   "cell_type": "code",
   "execution_count": 932,
   "metadata": {},
   "outputs": [],
   "source": [
    "#參數的default value(萸設參數)\n",
    "#有預設值放在後面,範例中 str='蛋糕'\n",
    "#定義的叫參數,呼叫的叫引數\n",
    "\n",
    "def menu(wine:str, entree:str, dessert:str='蛋糕')->dict[str,str]: \n",
    "    return{'前酒':wine, '主餐':entree,'甜點':dessert}"
   ]
  },
  {
   "cell_type": "code",
   "execution_count": 933,
   "metadata": {},
   "outputs": [
    {
     "data": {
      "text/plain": [
       "{'前酒': '白酒', '主餐': '牛排', '甜點': '蛋糕'}"
      ]
     },
     "execution_count": 933,
     "metadata": {},
     "output_type": "execute_result"
    }
   ],
   "source": [
    "menu('白酒','牛排')"
   ]
  },
  {
   "cell_type": "code",
   "execution_count": 934,
   "metadata": {},
   "outputs": [
    {
     "name": "stdout",
     "output_type": "stream",
     "text": [
      "{'前酒': '白酒', '主餐': '牛排', '甜點': '蛋糕'}\n",
      "{'前酒': '白酒', '主餐': '牛排', '甜點': '水果'}\n"
     ]
    }
   ],
   "source": [
    "print(menu('白酒','牛排'))   #呼叫\"引數值\",預設值不需呼叫\n",
    "print(menu('白酒','牛排',dessert='水果'))   #呼叫\"引數值\",\"預設參數值\"不需呼叫,若更改\"預設值\"放在呼叫\"引數值\"後面呼叫且採用\"引數名稱\"呼叫"
   ]
  },
  {
   "cell_type": "code",
   "execution_count": 935,
   "metadata": {},
   "outputs": [],
   "source": [
    "def menu(wine:str, entree:str='牛排', dessert:str='蛋糕')->dict[str,str]: \n",
    "    return{'前酒':wine, '主餐':entree,'甜點':dessert}"
   ]
  },
  {
   "cell_type": "code",
   "execution_count": 936,
   "metadata": {},
   "outputs": [
    {
     "name": "stdout",
     "output_type": "stream",
     "text": [
      "{'前酒': '白酒', '主餐': '牛排', '甜點': '蛋糕'}\n",
      "{'前酒': '白酒', '主餐': '牛排', '甜點': '水果'}\n",
      "{'前酒': '白酒', '主餐': '雞排', '甜點': '水果'}\n"
     ]
    }
   ],
   "source": [
    "#混合式呼叫\n",
    "print(menu('白酒'))  #引數值呼叫,預設不須呼叫\n",
    "print(menu('白酒',dessert='水果'))  #\"引數值\"呼叫放在最前面,有\"預設參數\"不需呼叫,若改變預設參數則採用\"引數名稱\"呼叫\n",
    "print(menu('白酒',dessert='水果',entree='雞排'))\n"
   ]
  },
  {
   "cell_type": "code",
   "execution_count": 937,
   "metadata": {},
   "outputs": [
    {
     "data": {
      "text/plain": [
       "{'前酒': '白酒', '主餐': '牛排', '甜點': '蛋糕'}"
      ]
     },
     "execution_count": 937,
     "metadata": {},
     "output_type": "execute_result"
    }
   ],
   "source": [
    "#預設參數,則呼叫為0個\n",
    "def menu(wine:str='白酒', entree:str='牛排', dessert:str='蛋糕')->dict[str,str]: \n",
    "    return{'前酒':wine, '主餐':entree,'甜點':dessert}\n",
    "\n",
    "\n",
    "#呼叫為0個\n",
    "menu()"
   ]
  },
  {
   "cell_type": "code",
   "execution_count": 938,
   "metadata": {},
   "outputs": [
    {
     "name": "stdout",
     "output_type": "stream",
     "text": [
      "()\n",
      "('白酒', '紅酒', '黑酒')\n"
     ]
    }
   ],
   "source": [
    "# * 代表沒有限定數量的\"引數值\"呼叫, 沒有限定數量也可是0個\n",
    "def menu(*args):\n",
    "    print(args)\n",
    "\n",
    "menu()        # args是tuple\n",
    "menu('白酒','紅酒','黑酒')  #args是tuple,沒有限定數量"
   ]
  },
  {
   "cell_type": "code",
   "execution_count": 939,
   "metadata": {},
   "outputs": [
    {
     "name": "stdout",
     "output_type": "stream",
     "text": [
      "{}\n",
      "{'酒1': '白酒', '酒2': '紅酒', '酒3': '黑酒'}\n"
     ]
    }
   ],
   "source": [
    "# **代表沒有限定數量的\"引數名稱\"呼叫, 傳進來的是dict\n",
    "# 引數值的呼叫絕對不是字串,只有dict的key才是字串\n",
    "\n",
    "def menu(**KWargs):\n",
    "    print(KWargs)\n",
    "\n",
    "menu()   # KWargs是dict\n",
    "menu(酒1='白酒', 酒2='紅酒', 酒3='黑酒')"
   ]
  },
  {
   "cell_type": "code",
   "execution_count": 940,
   "metadata": {},
   "outputs": [
    {
     "name": "stdout",
     "output_type": "stream",
     "text": [
      "1-2-3.0-True.\n"
     ]
    }
   ],
   "source": [
    "print('1', 2 ,3.0 ,True, sep='-',end='.\\n')\n"
   ]
  }
 ],
 "metadata": {
  "kernelspec": {
   "display_name": "Python 3",
   "language": "python",
   "name": "python3"
  },
  "language_info": {
   "codemirror_mode": {
    "name": "ipython",
    "version": 3
   },
   "file_extension": ".py",
   "mimetype": "text/x-python",
   "name": "python",
   "nbconvert_exporter": "python",
   "pygments_lexer": "ipython3",
   "version": "3.11.3"
  }
 },
 "nbformat": 4,
 "nbformat_minor": 2
}
