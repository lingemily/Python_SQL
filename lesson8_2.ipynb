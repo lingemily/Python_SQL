{
 "cells": [
  {
   "cell_type": "code",
   "execution_count": 13,
   "metadata": {},
   "outputs": [],
   "source": [
    "# 2維資料,2維資料就是表格資料\n",
    "students = [{'name':'Emily','chinese':78,'english':98, 'math':65},\n",
    "            {'name':'Emily','chinese':98,'english':94, 'math':80},\n",
    "            {'name':'Emily','chinese':85,'english':90, 'math':87},]"
   ]
  },
  {
   "cell_type": "code",
   "execution_count": 15,
   "metadata": {},
   "outputs": [
    {
     "name": "stdout",
     "output_type": "stream",
     "text": [
      "Emily\n",
      "78\n",
      "98\n",
      "65\n",
      "===================\n",
      "Emily\n",
      "98\n",
      "94\n",
      "80\n",
      "===================\n",
      "Emily\n",
      "85\n",
      "90\n",
      "87\n",
      "===================\n"
     ]
    }
   ],
   "source": [
    "#dictory for...in迴圈\n",
    "for student in students:\n",
    "    for key in student:\n",
    "        print(student[key])\n",
    "    print(\"===================\")"
   ]
  }
 ],
 "metadata": {
  "kernelspec": {
   "display_name": "base",
   "language": "python",
   "name": "python3"
  },
  "language_info": {
   "codemirror_mode": {
    "name": "ipython",
    "version": 3
   },
   "file_extension": ".py",
   "mimetype": "text/x-python",
   "name": "python",
   "nbconvert_exporter": "python",
   "pygments_lexer": "ipython3",
   "version": "3.11.5"
  }
 },
 "nbformat": 4,
 "nbformat_minor": 2
}
