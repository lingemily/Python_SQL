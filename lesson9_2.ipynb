{
 "cells": [
  {
   "cell_type": "code",
   "execution_count": 23,
   "metadata": {},
   "outputs": [],
   "source": [
    "#自訂function, 代碼:def, 定義的是參數\n",
    "#定義function裡面一定要有程式區塊\n",
    "\n",
    "def say_hello():\n",
    "    print(\"Hello\")"
   ]
  },
  {
   "cell_type": "code",
   "execution_count": 24,
   "metadata": {},
   "outputs": [
    {
     "name": "stdout",
     "output_type": "stream",
     "text": [
      "Hello\n"
     ]
    }
   ],
   "source": [
    "#呼叫function,呼叫使用引數值\n",
    "say_hello()"
   ]
  },
  {
   "cell_type": "code",
   "execution_count": 25,
   "metadata": {},
   "outputs": [],
   "source": [
    "def say_hello(name):    #name 是參數\n",
    "    print(f'Hello!{name}')"
   ]
  },
  {
   "cell_type": "code",
   "execution_count": 26,
   "metadata": {},
   "outputs": [
    {
     "name": "stdout",
     "output_type": "stream",
     "text": [
      "Hello!Emily\n"
     ]
    }
   ],
   "source": [
    "#呼叫的方式1: \"引數值\"的呼叫, 把EMmily放置定義def中name 內。\n",
    "\n",
    "say_hello('Emily')   # 'Emily'是引數值"
   ]
  },
  {
   "cell_type": "code",
   "execution_count": 27,
   "metadata": {},
   "outputs": [
    {
     "name": "stdout",
     "output_type": "stream",
     "text": [
      "Hello!Emily\n"
     ]
    }
   ],
   "source": [
    "#呼叫的方式2: \"引數名稱\"的呼叫 \n",
    "\n",
    "say_hello(name='Emily') "
   ]
  },
  {
   "cell_type": "code",
   "execution_count": 28,
   "metadata": {},
   "outputs": [],
   "source": [
    "def menu(wine, entree, dessert):\n",
    "    print(f'前酒:{wine}')\n",
    "    print(f'主餐:{entree}')\n",
    "    print(f'甜點:{dessert}')"
   ]
  },
  {
   "cell_type": "code",
   "execution_count": 29,
   "metadata": {},
   "outputs": [
    {
     "name": "stdout",
     "output_type": "stream",
     "text": [
      "前酒:白酒\n",
      "主餐:牛排\n",
      "甜點:蛋糕\n"
     ]
    }
   ],
   "source": [
    "#引數值的呼叫,必須依照參數的順序\n",
    "\n",
    "menu('白酒','牛排','蛋糕')"
   ]
  },
  {
   "cell_type": "code",
   "execution_count": 30,
   "metadata": {},
   "outputs": [
    {
     "name": "stdout",
     "output_type": "stream",
     "text": [
      "前酒:白酒\n",
      "主餐:牛排\n",
      "甜點:蛋糕\n"
     ]
    }
   ],
   "source": [
    "#引數名稱的呼叫,不需要依照參數的順序\n",
    "\n",
    "menu(entree='牛排', dessert='蛋糕', wine='白酒')"
   ]
  },
  {
   "cell_type": "code",
   "execution_count": 4,
   "metadata": {},
   "outputs": [
    {
     "data": {
      "text/plain": [
       "{'前酒': '白酒', '主餐': '牛排', '甜點': '蛋糕'}"
      ]
     },
     "execution_count": 4,
     "metadata": {},
     "output_type": "execute_result"
    }
   ],
   "source": [
    "#function中呼叫的方式3: \"混合\"的呼叫 \n",
    "#前面使用\"引數值\"呼叫,要依照參數順序\n",
    "#後面使用\"引數名稱\"呼叫,可不依照參數順序\n",
    "#使用\"引數名稱\"呼叫,後面均需要使用\"引數名稱\"呼叫\n",
    "#範例如下:\n",
    "\n",
    "menu('白酒',dessert='蛋糕', entree='牛排')"
   ]
  },
  {
   "cell_type": "code",
   "execution_count": 32,
   "metadata": {},
   "outputs": [],
   "source": [
    "#參數類似變數\n",
    "#參數可以有type hint,引數值必須為字串\n",
    "\n",
    "def menu(wine:str, entree:str, dessert:str):  #str指字串\n",
    "    print(f'前酒:{wine}')\n",
    "    print(f'主餐:{entree}')\n",
    "    print(f'甜點:{dessert}')"
   ]
  },
  {
   "cell_type": "code",
   "execution_count": 33,
   "metadata": {},
   "outputs": [
    {
     "name": "stdout",
     "output_type": "stream",
     "text": [
      "前酒:白酒\n",
      "主餐:牛排\n",
      "甜點:蛋糕\n"
     ]
    }
   ],
   "source": [
    "menu('白酒',dessert='蛋糕', entree='牛排')"
   ]
  },
  {
   "cell_type": "code",
   "execution_count": 34,
   "metadata": {},
   "outputs": [],
   "source": [
    "#function傳出的值\n",
    "def menu(wine:str, entree:str, dessert:str)->dict[str,str]: \n",
    "    return{'前酒':wine, '主餐':entree,'甜點':dessert}"
   ]
  },
  {
   "cell_type": "code",
   "execution_count": 35,
   "metadata": {},
   "outputs": [
    {
     "name": "stdout",
     "output_type": "stream",
     "text": [
      "{'前酒': '白酒', '主餐': '牛排', '甜點': '蛋糕'}\n"
     ]
    }
   ],
   "source": [
    "#接收值\n",
    "my_menu = menu('白酒',dessert='蛋糕', entree='牛排')\n",
    "print(my_menu)"
   ]
  },
  {
   "cell_type": "code",
   "execution_count": 2,
   "metadata": {},
   "outputs": [],
   "source": [
    "#參數的default value(預設參數)。\n",
    "#預設參數一定要放在後面,範例中 dessert:str='蛋糕'。\n",
    "#沒有預設參數的一定要用\"引數呼叫\"。\n",
    "#預設參數的則用\"引數名稱呼叫\"。\n",
    "#定義的叫參數,呼叫的叫引數。\n",
    "\n",
    "def menu(wine:str, entree:str, dessert:str='蛋糕')->dict[str,str]: \n",
    "    return{'前酒':wine, '主餐':entree,'甜點':dessert}"
   ]
  },
  {
   "cell_type": "code",
   "execution_count": 37,
   "metadata": {},
   "outputs": [
    {
     "data": {
      "text/plain": [
       "{'前酒': '白酒', '主餐': '牛排', '甜點': '蛋糕'}"
      ]
     },
     "execution_count": 37,
     "metadata": {},
     "output_type": "execute_result"
    }
   ],
   "source": [
    "menu('白酒','牛排')"
   ]
  },
  {
   "cell_type": "code",
   "execution_count": 38,
   "metadata": {},
   "outputs": [
    {
     "name": "stdout",
     "output_type": "stream",
     "text": [
      "{'前酒': '白酒', '主餐': '牛排', '甜點': '蛋糕'}\n",
      "{'前酒': '白酒', '主餐': '牛排', '甜點': '水果'}\n"
     ]
    }
   ],
   "source": [
    "print(menu('白酒','牛排'))   #呼叫\"引數值\",預設值不需呼叫\n",
    "print(menu('白酒','牛排',dessert='水果'))   #呼叫\"引數值\",\"預設參數值\"不需呼叫,若更改\"預設值\"放在呼叫\"引數值\"後面呼叫且採用\"引數名稱\"呼叫"
   ]
  },
  {
   "cell_type": "code",
   "execution_count": 39,
   "metadata": {},
   "outputs": [],
   "source": [
    "def menu(wine:str, entree:str='牛排', dessert:str='蛋糕')->dict[str,str]: \n",
    "    return{'前酒':wine, '主餐':entree,'甜點':dessert}"
   ]
  },
  {
   "cell_type": "code",
   "execution_count": 40,
   "metadata": {},
   "outputs": [
    {
     "name": "stdout",
     "output_type": "stream",
     "text": [
      "{'前酒': '白酒', '主餐': '牛排', '甜點': '蛋糕'}\n",
      "{'前酒': '白酒', '主餐': '牛排', '甜點': '水果'}\n",
      "{'前酒': '白酒', '主餐': '雞排', '甜點': '水果'}\n"
     ]
    }
   ],
   "source": [
    "#混合式呼叫\n",
    "print(menu('白酒'))  #引數值呼叫,預設不須呼叫\n",
    "print(menu('白酒',dessert='水果'))  #\"引數值\"呼叫放在最前面,有\"預設參數\"不需呼叫,若改變預設參數則採用\"引數名稱\"呼叫\n",
    "print(menu('白酒',dessert='水果',entree='雞排'))"
   ]
  },
  {
   "cell_type": "code",
   "execution_count": 3,
   "metadata": {},
   "outputs": [
    {
     "data": {
      "text/plain": [
       "{'前酒': '白酒', '主餐': '牛排', '甜點': '蛋糕'}"
      ]
     },
     "execution_count": 3,
     "metadata": {},
     "output_type": "execute_result"
    }
   ],
   "source": [
    "#預設參數,則呼叫為0個\n",
    "#全部使用預設參數的,則不須指定呼叫類型。\n",
    "def menu(wine:str='白酒', entree:str='牛排', dessert:str='蛋糕')->dict[str,str]: \n",
    "    return{'前酒':wine, '主餐':entree,'甜點':dessert}\n",
    "\n",
    "\n",
    "#呼叫為0個\n",
    "menu()"
   ]
  },
  {
   "cell_type": "code",
   "execution_count": 42,
   "metadata": {},
   "outputs": [
    {
     "name": "stdout",
     "output_type": "stream",
     "text": [
      "()\n",
      "('白酒', '紅酒', '黑酒')\n"
     ]
    }
   ],
   "source": [
    "# * 代表沒有限定數量的\"引數值\"呼叫, 沒有限定數量也可是0個\n",
    "def menu(*args):\n",
    "    print(args)\n",
    "\n",
    "menu()        # args是tuple\n",
    "menu('白酒','紅酒','黑酒')  #args是tuple,沒有限定數量"
   ]
  },
  {
   "cell_type": "code",
   "execution_count": 43,
   "metadata": {},
   "outputs": [
    {
     "name": "stdout",
     "output_type": "stream",
     "text": [
      "{}\n",
      "{'酒1': '白酒', '酒2': '紅酒', '酒3': '黑酒'}\n"
     ]
    }
   ],
   "source": [
    "# **代表沒有限定數量的\"引數名稱\"呼叫, 傳進來的是dict\n",
    "# 引數值的呼叫絕對不是字串,只有dict的key才是字串\n",
    "\n",
    "def menu(**KWargs):\n",
    "    print(KWargs)\n",
    "\n",
    "menu()   # KWargs是dict\n",
    "menu(酒1='白酒', 酒2='紅酒', 酒3='黑酒')"
   ]
  },
  {
   "cell_type": "code",
   "execution_count": 44,
   "metadata": {},
   "outputs": [
    {
     "name": "stdout",
     "output_type": "stream",
     "text": [
      "1-2-3.0-True.\n"
     ]
    }
   ],
   "source": [
    "print('1', 2 ,3.0 ,True, sep='-',end='.\\n')\n"
   ]
  }
 ],
 "metadata": {
  "kernelspec": {
   "display_name": "Python 3",
   "language": "python",
   "name": "python3"
  },
  "language_info": {
   "codemirror_mode": {
    "name": "ipython",
    "version": 3
   },
   "file_extension": ".py",
   "mimetype": "text/x-python",
   "name": "python",
   "nbconvert_exporter": "python",
   "pygments_lexer": "ipython3",
   "version": "3.11.3"
  }
 },
 "nbformat": 4,
 "nbformat_minor": 2
}
